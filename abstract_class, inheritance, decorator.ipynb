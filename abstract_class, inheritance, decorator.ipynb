{
 "cells": [
  {
   "cell_type": "markdown",
   "id": "a2f47fbf",
   "metadata": {},
   "source": [
    "## Abstract Class\n",
    "Abstract class is a class for which we cannot create an object, it is used to define the methods that we want its subclass to create."
   ]
  },
  {
   "cell_type": "code",
   "execution_count": 1,
   "id": "56ecde0f",
   "metadata": {},
   "outputs": [],
   "source": [
    "from abc import ABC, abstractmethod\n",
    "class Course(ABC):\n",
    "    @abstractmethod\n",
    "    def duration(self):\n",
    "        pass\n",
    "    \n",
    "class JavaCourse(Course):\n",
    "    def duration(self):\n",
    "        print(\"Duration of Java course is 60 days\")\n",
    "\n",
    "class PythonCourse(Course):\n",
    "    def duration(self):\n",
    "        print(\"Duration of Python course is 30 days\")\n",
    "\n",
    "class MLCourse(Course):\n",
    "    def course_duration(self):\n",
    "        print(\"Duration of ML course is 90 days\")"
   ]
  },
  {
   "cell_type": "markdown",
   "id": "48d97e4a",
   "metadata": {},
   "source": [
    "#### We can create objects of the JavaCourse and PythonCourse but not for MLCourse as ir does nothave duration method."
   ]
  },
  {
   "cell_type": "code",
   "execution_count": 2,
   "id": "f8072c8e",
   "metadata": {},
   "outputs": [
    {
     "name": "stdout",
     "output_type": "stream",
     "text": [
      "Duration of Java course is 60 days\n"
     ]
    }
   ],
   "source": [
    "j = JavaCourse()\n",
    "j.duration()"
   ]
  },
  {
   "cell_type": "code",
   "execution_count": 3,
   "id": "fa66b85c",
   "metadata": {},
   "outputs": [
    {
     "name": "stdout",
     "output_type": "stream",
     "text": [
      "Duration of Python course is 30 days\n"
     ]
    }
   ],
   "source": [
    "p = PythonCourse()\n",
    "p.duration()"
   ]
  },
  {
   "cell_type": "code",
   "execution_count": 4,
   "id": "3bb9b3da",
   "metadata": {},
   "outputs": [
    {
     "ename": "TypeError",
     "evalue": "Can't instantiate abstract class MLCourse with abstract method duration",
     "output_type": "error",
     "traceback": [
      "\u001b[1;31m---------------------------------------------------------------------------\u001b[0m",
      "\u001b[1;31mTypeError\u001b[0m                                 Traceback (most recent call last)",
      "\u001b[1;32m~\\AppData\\Local\\Temp/ipykernel_11324/186251222.py\u001b[0m in \u001b[0;36m<module>\u001b[1;34m\u001b[0m\n\u001b[0;32m      1\u001b[0m \u001b[1;31m#this will fail because duration function is not created.\u001b[0m\u001b[1;33m\u001b[0m\u001b[1;33m\u001b[0m\u001b[0m\n\u001b[1;32m----> 2\u001b[1;33m \u001b[0mm\u001b[0m \u001b[1;33m=\u001b[0m \u001b[0mMLCourse\u001b[0m\u001b[1;33m(\u001b[0m\u001b[1;33m)\u001b[0m\u001b[1;33m\u001b[0m\u001b[1;33m\u001b[0m\u001b[0m\n\u001b[0m",
      "\u001b[1;31mTypeError\u001b[0m: Can't instantiate abstract class MLCourse with abstract method duration"
     ]
    }
   ],
   "source": [
    "#this will fail because duration function is not created.\n",
    "m = MLCourse()"
   ]
  },
  {
   "cell_type": "code",
   "execution_count": null,
   "id": "c679da0b",
   "metadata": {},
   "outputs": [],
   "source": []
  },
  {
   "cell_type": "markdown",
   "id": "706bed3f",
   "metadata": {},
   "source": [
    "## Multiple inheritance\n",
    "When a class id derived from more than one class, it is called multiple inheritance."
   ]
  },
  {
   "cell_type": "code",
   "execution_count": 5,
   "id": "27daf3ed",
   "metadata": {},
   "outputs": [],
   "source": [
    "class CourseDuration:\n",
    "    def duration(self):\n",
    "        print('Duration of the course is 30 days')\n",
    "        \n",
    "class CourseDetails:\n",
    "    def details(self):\n",
    "        print('This is ML Course')\n",
    "\n",
    "#inheriting two classes\n",
    "class Course(CourseDuration, CourseDetails):\n",
    "    def welcome(self):\n",
    "        print('Welcome to the course')\n",
    "        CourseDetails.details(self)\n",
    "        CourseDuration.duration(self)"
   ]
  },
  {
   "cell_type": "code",
   "execution_count": 6,
   "id": "715cef00",
   "metadata": {},
   "outputs": [
    {
     "name": "stdout",
     "output_type": "stream",
     "text": [
      "Welcome to the course\n",
      "This is ML Course\n",
      "Duration of the course is 30 days\n"
     ]
    }
   ],
   "source": [
    "p = Course()\n",
    "p.welcome()"
   ]
  },
  {
   "cell_type": "code",
   "execution_count": null,
   "id": "27fe6a86",
   "metadata": {},
   "outputs": [],
   "source": []
  },
  {
   "cell_type": "markdown",
   "id": "95c3f64f",
   "metadata": {},
   "source": [
    "### Decorator\n",
    "It is a function that can receive other function as an argument."
   ]
  },
  {
   "cell_type": "code",
   "execution_count": 11,
   "id": "dab4b5ad",
   "metadata": {},
   "outputs": [],
   "source": [
    "def greetings(course):\n",
    "\n",
    "    def course_greet():\n",
    "        print(\"Welcome to the course\")\n",
    "        course()\n",
    "        print(\"Thanks for visiting\")\n",
    "\n",
    "    return course_greet\n",
    "\n",
    "def ml_Course():\n",
    "    print(\"This is Machine Learning course.\")"
   ]
  },
  {
   "cell_type": "code",
   "execution_count": 12,
   "id": "a76bc411",
   "metadata": {},
   "outputs": [
    {
     "name": "stdout",
     "output_type": "stream",
     "text": [
      "This is Machine Learning course.\n"
     ]
    }
   ],
   "source": [
    "ml_Course()"
   ]
  },
  {
   "cell_type": "code",
   "execution_count": 13,
   "id": "7b3aa245",
   "metadata": {},
   "outputs": [
    {
     "name": "stdout",
     "output_type": "stream",
     "text": [
      "Welcome to the course\n",
      "This is Machine Learning course.\n",
      "Thanks for visiting\n"
     ]
    }
   ],
   "source": [
    "greet = greetings(ml_Course)\n",
    "greet()"
   ]
  },
  {
   "cell_type": "code",
   "execution_count": null,
   "id": "377441ff",
   "metadata": {},
   "outputs": [],
   "source": []
  }
 ],
 "metadata": {
  "kernelspec": {
   "display_name": "Python 3 (ipykernel)",
   "language": "python",
   "name": "python3"
  },
  "language_info": {
   "codemirror_mode": {
    "name": "ipython",
    "version": 3
   },
   "file_extension": ".py",
   "mimetype": "text/x-python",
   "name": "python",
   "nbconvert_exporter": "python",
   "pygments_lexer": "ipython3",
   "version": "3.9.7"
  }
 },
 "nbformat": 4,
 "nbformat_minor": 5
}
